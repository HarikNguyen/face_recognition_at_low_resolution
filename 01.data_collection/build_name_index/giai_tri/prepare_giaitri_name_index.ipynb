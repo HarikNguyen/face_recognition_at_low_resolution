{
 "cells": [
  {
   "cell_type": "code",
   "execution_count": 6,
   "metadata": {},
   "outputs": [],
   "source": [
    "import pandas as pd\n",
    "from matplotlib import pyplot as plt"
   ]
  },
  {
   "cell_type": "code",
   "execution_count": 3,
   "metadata": {},
   "outputs": [
    {
     "data": {
      "text/html": [
       "<div>\n",
       "<style scoped>\n",
       "    .dataframe tbody tr th:only-of-type {\n",
       "        vertical-align: middle;\n",
       "    }\n",
       "\n",
       "    .dataframe tbody tr th {\n",
       "        vertical-align: top;\n",
       "    }\n",
       "\n",
       "    .dataframe thead th {\n",
       "        text-align: right;\n",
       "    }\n",
       "</style>\n",
       "<table border=\"1\" class=\"dataframe\">\n",
       "  <thead>\n",
       "    <tr style=\"text-align: right;\">\n",
       "      <th></th>\n",
       "      <th>name</th>\n",
       "      <th>age</th>\n",
       "      <th>keyword</th>\n",
       "      <th>place_of_birth</th>\n",
       "      <th>job</th>\n",
       "    </tr>\n",
       "  </thead>\n",
       "  <tbody>\n",
       "    <tr>\n",
       "      <th>0</th>\n",
       "      <td>Sơn Tùng</td>\n",
       "      <td>29</td>\n",
       "      <td>Ca sĩ Sơn Tùng</td>\n",
       "      <td>Thái Bình</td>\n",
       "      <td>Ca sĩ</td>\n",
       "    </tr>\n",
       "    <tr>\n",
       "      <th>1</th>\n",
       "      <td>Khởi My</td>\n",
       "      <td>33</td>\n",
       "      <td>Ca sĩ Khởi My</td>\n",
       "      <td>Đồng Nai</td>\n",
       "      <td>Ca sĩ</td>\n",
       "    </tr>\n",
       "    <tr>\n",
       "      <th>2</th>\n",
       "      <td>Hồ Quang Hiếu</td>\n",
       "      <td>37</td>\n",
       "      <td>Ca sĩ Hồ Quang Hiếu</td>\n",
       "      <td>Đắk Lắk</td>\n",
       "      <td>Ca sĩ</td>\n",
       "    </tr>\n",
       "    <tr>\n",
       "      <th>3</th>\n",
       "      <td>Thuỷ Tiên</td>\n",
       "      <td>38</td>\n",
       "      <td>Ca sĩ Thuỷ Tiên</td>\n",
       "      <td>Kiên Giang</td>\n",
       "      <td>Ca sĩ</td>\n",
       "    </tr>\n",
       "    <tr>\n",
       "      <th>4</th>\n",
       "      <td>Minh Hằng</td>\n",
       "      <td>36</td>\n",
       "      <td>Ca sĩ Minh Hằng</td>\n",
       "      <td>Hồ Chí Minh</td>\n",
       "      <td>Ca sĩ</td>\n",
       "    </tr>\n",
       "  </tbody>\n",
       "</table>\n",
       "</div>"
      ],
      "text/plain": [
       "            name  age              keyword place_of_birth    job\n",
       "0       Sơn Tùng   29       Ca sĩ Sơn Tùng      Thái Bình  Ca sĩ\n",
       "1        Khởi My   33        Ca sĩ Khởi My       Đồng Nai  Ca sĩ\n",
       "2  Hồ Quang Hiếu   37  Ca sĩ Hồ Quang Hiếu        Đắk Lắk  Ca sĩ\n",
       "3      Thuỷ Tiên   38      Ca sĩ Thuỷ Tiên     Kiên Giang  Ca sĩ\n",
       "4      Minh Hằng   36      Ca sĩ Minh Hằng    Hồ Chí Minh  Ca sĩ"
      ]
     },
     "execution_count": 3,
     "metadata": {},
     "output_type": "execute_result"
    }
   ],
   "source": [
    "df = pd.read_csv(\"./giai_tri.csv\")\n",
    "df.head()"
   ]
  },
  {
   "cell_type": "code",
   "execution_count": 4,
   "metadata": {},
   "outputs": [
    {
     "data": {
      "text/plain": [
       "(2792, 5)"
      ]
     },
     "execution_count": 4,
     "metadata": {},
     "output_type": "execute_result"
    }
   ],
   "source": [
    "# drop duplicate rows\n",
    "df = df.drop_duplicates(subset=['keyword'])\n",
    "# drop duplicate rows via name\n",
    "df = df.drop_duplicates(subset=['name'])\n",
    "df.shape\n"
   ]
  },
  {
   "cell_type": "code",
   "execution_count": 7,
   "metadata": {},
   "outputs": [
    {
     "data": {
      "image/png": "[encoded data removed]",
      "text/plain": [
       "<Figure size 640x480 with 1 Axes>"
      ]
     },
     "metadata": {},
     "output_type": "display_data"
    }
   ],
   "source": [
    "# plot histogram of age\n",
    "plt.hist(df['age'], bins=20)\n",
    "plt.show()"
   ]
  },
  {
   "cell_type": "code",
   "execution_count": 5,
   "metadata": {},
   "outputs": [],
   "source": [
    "df.to_csv(\"./giai_tri_new.csv\", index=False)"
   ]
  }
 ],
 "metadata": {
  "kernelspec": {
   "display_name": "venv",
   "language": "python",
   "name": "python3"
  },
  "language_info": {
   "codemirror_mode": {
    "name": "ipython",
    "version": 3
   },
   "file_extension": ".py",
   "mimetype": "text/x-python",
   "name": "python",
   "nbconvert_exporter": "python",
   "pygments_lexer": "ipython3",
   "version": "3.11.1"
  },
  "orig_nbformat": 4
 },
 "nbformat": 4,
 "nbformat_minor": 2
}
