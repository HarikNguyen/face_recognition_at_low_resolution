{
 "cells": [
  {
   "cell_type": "code",
   "execution_count": 8,
   "metadata": {},
   "outputs": [],
   "source": [
    "import requests as rq\n",
    "from bs4 import BeautifulSoup as bs\n",
    "import pandas as pd"
   ]
  },
  {
   "cell_type": "code",
   "execution_count": 9,
   "metadata": {},
   "outputs": [],
   "source": [
    "# get all links\n",
    "def get_all_links(url):\n",
    "    response = rq.get(url)\n",
    "    soup = bs(response.text, \"html.parser\")\n",
    "    # find all uls with class = \"menu-v-sub\"\n",
    "    uls = soup.find_all(\"ul\", {\"class\": \"menu-v-sub\"})\n",
    "    dbqh_lists = uls[1].find_all(\"a\")\n",
    "    links = [dbqh.get(\"href\") for dbqh in dbqh_lists]\n",
    "    return links"
   ]
  },
  {
   "cell_type": "code",
   "execution_count": 10,
   "metadata": {},
   "outputs": [],
   "source": [
    "series = [\"XV\", \"XIV\"]\n",
    "result = []\n",
    "for time_ in series:\n",
    "    links = get_all_links(f\"https://dbqh.quochoi.vn/{time_}/Daibieu.aspx\")\n",
    "    result.extend(links)"
   ]
  },
  {
   "cell_type": "code",
   "execution_count": 11,
   "metadata": {},
   "outputs": [
    {
     "data": {
      "text/html": [
       "<div>\n",
       "<style scoped>\n",
       "    .dataframe tbody tr th:only-of-type {\n",
       "        vertical-align: middle;\n",
       "    }\n",
       "\n",
       "    .dataframe tbody tr th {\n",
       "        vertical-align: top;\n",
       "    }\n",
       "\n",
       "    .dataframe thead th {\n",
       "        text-align: right;\n",
       "    }\n",
       "</style>\n",
       "<table border=\"1\" class=\"dataframe\">\n",
       "  <thead>\n",
       "    <tr style=\"text-align: right;\">\n",
       "      <th></th>\n",
       "      <th>url</th>\n",
       "    </tr>\n",
       "  </thead>\n",
       "  <tbody>\n",
       "    <tr>\n",
       "      <th>0</th>\n",
       "      <td>https://dbqh.quochoi.vn/daibieu/15/4865/1/Đoan...</td>\n",
       "    </tr>\n",
       "    <tr>\n",
       "      <th>1</th>\n",
       "      <td>https://dbqh.quochoi.vn/daibieu/11/5261/1/Duon...</td>\n",
       "    </tr>\n",
       "    <tr>\n",
       "      <th>2</th>\n",
       "      <td>https://dbqh.quochoi.vn/daibieu/38/5125/1/Le-T...</td>\n",
       "    </tr>\n",
       "    <tr>\n",
       "      <th>3</th>\n",
       "      <td>https://dbqh.quochoi.vn/daibieu/53/2284/1/Nguy...</td>\n",
       "    </tr>\n",
       "    <tr>\n",
       "      <th>4</th>\n",
       "      <td>https://dbqh.quochoi.vn/daibieu/47/2205/1/Tran...</td>\n",
       "    </tr>\n",
       "    <tr>\n",
       "      <th>...</th>\n",
       "      <td>...</td>\n",
       "    </tr>\n",
       "    <tr>\n",
       "      <th>988</th>\n",
       "      <td>https://dbqh.quochoi.vn/daibieu/43/845/1/Le-Th...</td>\n",
       "    </tr>\n",
       "    <tr>\n",
       "      <th>989</th>\n",
       "      <td>https://dbqh.quochoi.vn/daibieu/16/1653/1/Ngo-...</td>\n",
       "    </tr>\n",
       "    <tr>\n",
       "      <th>990</th>\n",
       "      <td>https://dbqh.quochoi.vn/daibieu/3/1545/1/Nguye...</td>\n",
       "    </tr>\n",
       "    <tr>\n",
       "      <th>991</th>\n",
       "      <td>https://dbqh.quochoi.vn/daibieu/29/1796/1/Nguy...</td>\n",
       "    </tr>\n",
       "    <tr>\n",
       "      <th>992</th>\n",
       "      <td>https://dbqh.quochoi.vn/daibieu/29/1797/1/Tran...</td>\n",
       "    </tr>\n",
       "  </tbody>\n",
       "</table>\n",
       "<p>993 rows × 1 columns</p>\n",
       "</div>"
      ],
      "text/plain": [
       "                                                   url\n",
       "0    https://dbqh.quochoi.vn/daibieu/15/4865/1/Đoan...\n",
       "1    https://dbqh.quochoi.vn/daibieu/11/5261/1/Duon...\n",
       "2    https://dbqh.quochoi.vn/daibieu/38/5125/1/Le-T...\n",
       "3    https://dbqh.quochoi.vn/daibieu/53/2284/1/Nguy...\n",
       "4    https://dbqh.quochoi.vn/daibieu/47/2205/1/Tran...\n",
       "..                                                 ...\n",
       "988  https://dbqh.quochoi.vn/daibieu/43/845/1/Le-Th...\n",
       "989  https://dbqh.quochoi.vn/daibieu/16/1653/1/Ngo-...\n",
       "990  https://dbqh.quochoi.vn/daibieu/3/1545/1/Nguye...\n",
       "991  https://dbqh.quochoi.vn/daibieu/29/1796/1/Nguy...\n",
       "992  https://dbqh.quochoi.vn/daibieu/29/1797/1/Tran...\n",
       "\n",
       "[993 rows x 1 columns]"
      ]
     },
     "execution_count": 11,
     "metadata": {},
     "output_type": "execute_result"
    }
   ],
   "source": [
    "df = pd.DataFrame(result, columns=[\"url\"])\n",
    "df"
   ]
  },
  {
   "cell_type": "code",
   "execution_count": 12,
   "metadata": {},
   "outputs": [],
   "source": [
    "df = df.drop_duplicates()"
   ]
  },
  {
   "cell_type": "code",
   "execution_count": 13,
   "metadata": {},
   "outputs": [],
   "source": [
    "df.to_csv(\"dbqh_links.csv\", index=False)"
   ]
  }
 ],
 "metadata": {
  "kernelspec": {
   "display_name": "venv",
   "language": "python",
   "name": "python3"
  },
  "language_info": {
   "codemirror_mode": {
    "name": "ipython",
    "version": 3
   },
   "file_extension": ".py",
   "mimetype": "text/x-python",
   "name": "python",
   "nbconvert_exporter": "python",
   "pygments_lexer": "ipython3",
   "version": "3.11.1"
  },
  "orig_nbformat": 4
 },
 "nbformat": 4,
 "nbformat_minor": 2
}
