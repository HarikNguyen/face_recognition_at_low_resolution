{
 "cells": [
  {
   "cell_type": "code",
   "execution_count": 31,
   "metadata": {},
   "outputs": [],
   "source": [
    "import pandas as pd\n",
    "from matplotlib import pyplot as plt"
   ]
  },
  {
   "cell_type": "code",
   "execution_count": 32,
   "metadata": {},
   "outputs": [
    {
     "data": {
      "text/html": [
       "<div>\n",
       "<style scoped>\n",
       "    .dataframe tbody tr th:only-of-type {\n",
       "        vertical-align: middle;\n",
       "    }\n",
       "\n",
       "    .dataframe tbody tr th {\n",
       "        vertical-align: top;\n",
       "    }\n",
       "\n",
       "    .dataframe thead th {\n",
       "        text-align: right;\n",
       "    }\n",
       "</style>\n",
       "<table border=\"1\" class=\"dataframe\">\n",
       "  <thead>\n",
       "    <tr style=\"text-align: right;\">\n",
       "      <th></th>\n",
       "      <th>name</th>\n",
       "      <th>standard_name</th>\n",
       "      <th>birthday</th>\n",
       "      <th>birthplace</th>\n",
       "      <th>religion</th>\n",
       "      <th>gender</th>\n",
       "      <th>keyword</th>\n",
       "      <th>age</th>\n",
       "      <th>province</th>\n",
       "    </tr>\n",
       "  </thead>\n",
       "  <tbody>\n",
       "    <tr>\n",
       "      <th>0</th>\n",
       "      <td>Đoàn Thị Lê An</td>\n",
       "      <td>Đoàn Thị Lê An</td>\n",
       "      <td>26/2/1979</td>\n",
       "      <td>Xã Chí Thảo, huyện Quảng Hòa, Cao Bằng</td>\n",
       "      <td>Không</td>\n",
       "      <td>Nữ</td>\n",
       "      <td>Đại biểu quốc hội Đoàn Thị Lê An</td>\n",
       "      <td>44</td>\n",
       "      <td>Cao Bằng</td>\n",
       "    </tr>\n",
       "    <tr>\n",
       "      <th>1</th>\n",
       "      <td>Dương Văn An</td>\n",
       "      <td>Dương Văn An</td>\n",
       "      <td>15/2/1971</td>\n",
       "      <td>Xã Phú Hồ, huyện Phú Vang, Thừa Thiên Huế</td>\n",
       "      <td>Không</td>\n",
       "      <td>Nam</td>\n",
       "      <td>Đại biểu quốc hội Dương Văn An</td>\n",
       "      <td>52</td>\n",
       "      <td>Thừa Thiên Huế</td>\n",
       "    </tr>\n",
       "    <tr>\n",
       "      <th>2</th>\n",
       "      <td>Lê Thị Song An</td>\n",
       "      <td>Lê Thị Song An</td>\n",
       "      <td>11/10/1977</td>\n",
       "      <td>Thị trấn Thủ Thừa, huyện Thủ Thừa, Long An</td>\n",
       "      <td>Không</td>\n",
       "      <td>Nữ</td>\n",
       "      <td>Đại biểu quốc hội Lê Thị Song An</td>\n",
       "      <td>45</td>\n",
       "      <td>Long An</td>\n",
       "    </tr>\n",
       "    <tr>\n",
       "      <th>3</th>\n",
       "      <td>Nguyễn Văn An</td>\n",
       "      <td>Nguyễn Văn An</td>\n",
       "      <td>30/11/1968</td>\n",
       "      <td>Xã An Quý, huyện Quỳnh Phụ, Thái Bình</td>\n",
       "      <td>Không</td>\n",
       "      <td>Nam</td>\n",
       "      <td>Đại biểu quốc hội Nguyễn Văn An</td>\n",
       "      <td>54</td>\n",
       "      <td>Thái Bình</td>\n",
       "    </tr>\n",
       "    <tr>\n",
       "      <th>4</th>\n",
       "      <td>Trần Thị Hồng An</td>\n",
       "      <td>Trần Thị Hồng An</td>\n",
       "      <td>11/12/1971</td>\n",
       "      <td>Xã Trực Cát, huyện Trực Ninh, Nam Định</td>\n",
       "      <td>Không</td>\n",
       "      <td>Nữ</td>\n",
       "      <td>Đại biểu quốc hội Trần Thị Hồng An</td>\n",
       "      <td>51</td>\n",
       "      <td>Nam Định</td>\n",
       "    </tr>\n",
       "  </tbody>\n",
       "</table>\n",
       "</div>"
      ],
      "text/plain": [
       "               name     standard_name    birthday  \\\n",
       "0    Đoàn Thị Lê An    Đoàn Thị Lê An   26/2/1979   \n",
       "1      Dương Văn An      Dương Văn An   15/2/1971   \n",
       "2    Lê Thị Song An    Lê Thị Song An  11/10/1977   \n",
       "3     Nguyễn Văn An     Nguyễn Văn An  30/11/1968   \n",
       "4  Trần Thị Hồng An  Trần Thị Hồng An  11/12/1971   \n",
       "\n",
       "                                   birthplace religion gender  \\\n",
       "0      Xã Chí Thảo, huyện Quảng Hòa, Cao Bằng    Không     Nữ   \n",
       "1   Xã Phú Hồ, huyện Phú Vang, Thừa Thiên Huế    Không    Nam   \n",
       "2  Thị trấn Thủ Thừa, huyện Thủ Thừa, Long An    Không     Nữ   \n",
       "3       Xã An Quý, huyện Quỳnh Phụ, Thái Bình    Không    Nam   \n",
       "4      Xã Trực Cát, huyện Trực Ninh, Nam Định    Không     Nữ   \n",
       "\n",
       "                              keyword  age        province  \n",
       "0    Đại biểu quốc hội Đoàn Thị Lê An   44        Cao Bằng  \n",
       "1      Đại biểu quốc hội Dương Văn An   52  Thừa Thiên Huế  \n",
       "2    Đại biểu quốc hội Lê Thị Song An   45         Long An  \n",
       "3     Đại biểu quốc hội Nguyễn Văn An   54       Thái Bình  \n",
       "4  Đại biểu quốc hội Trần Thị Hồng An   51        Nam Định  "
      ]
     },
     "execution_count": 32,
     "metadata": {},
     "output_type": "execute_result"
    }
   ],
   "source": [
    "df_dbqh = pd.read_csv('dbqh_new.csv')\n",
    "df_dbqh.head()"
   ]
  },
  {
   "cell_type": "code",
   "execution_count": 33,
   "metadata": {},
   "outputs": [
    {
     "data": {
      "text/html": [
       "<div>\n",
       "<style scoped>\n",
       "    .dataframe tbody tr th:only-of-type {\n",
       "        vertical-align: middle;\n",
       "    }\n",
       "\n",
       "    .dataframe tbody tr th {\n",
       "        vertical-align: top;\n",
       "    }\n",
       "\n",
       "    .dataframe thead th {\n",
       "        text-align: right;\n",
       "    }\n",
       "</style>\n",
       "<table border=\"1\" class=\"dataframe\">\n",
       "  <thead>\n",
       "    <tr style=\"text-align: right;\">\n",
       "      <th></th>\n",
       "      <th>name</th>\n",
       "      <th>age</th>\n",
       "      <th>keyword</th>\n",
       "      <th>place_of_birth</th>\n",
       "      <th>job</th>\n",
       "    </tr>\n",
       "  </thead>\n",
       "  <tbody>\n",
       "    <tr>\n",
       "      <th>0</th>\n",
       "      <td>Sơn Tùng</td>\n",
       "      <td>29</td>\n",
       "      <td>Ca sĩ Sơn Tùng</td>\n",
       "      <td>Thái Bình</td>\n",
       "      <td>Ca sĩ</td>\n",
       "    </tr>\n",
       "    <tr>\n",
       "      <th>1</th>\n",
       "      <td>Khởi My</td>\n",
       "      <td>33</td>\n",
       "      <td>Ca sĩ Khởi My</td>\n",
       "      <td>Đồng Nai</td>\n",
       "      <td>Ca sĩ</td>\n",
       "    </tr>\n",
       "    <tr>\n",
       "      <th>2</th>\n",
       "      <td>Hồ Quang Hiếu</td>\n",
       "      <td>37</td>\n",
       "      <td>Ca sĩ Hồ Quang Hiếu</td>\n",
       "      <td>Đắk Lắk</td>\n",
       "      <td>Ca sĩ</td>\n",
       "    </tr>\n",
       "    <tr>\n",
       "      <th>3</th>\n",
       "      <td>Thuỷ Tiên</td>\n",
       "      <td>38</td>\n",
       "      <td>Ca sĩ Thuỷ Tiên</td>\n",
       "      <td>Kiên Giang</td>\n",
       "      <td>Ca sĩ</td>\n",
       "    </tr>\n",
       "    <tr>\n",
       "      <th>4</th>\n",
       "      <td>Minh Hằng</td>\n",
       "      <td>36</td>\n",
       "      <td>Ca sĩ Minh Hằng</td>\n",
       "      <td>Hồ Chí Minh</td>\n",
       "      <td>Ca sĩ</td>\n",
       "    </tr>\n",
       "  </tbody>\n",
       "</table>\n",
       "</div>"
      ],
      "text/plain": [
       "            name  age              keyword place_of_birth    job\n",
       "0       Sơn Tùng   29       Ca sĩ Sơn Tùng      Thái Bình  Ca sĩ\n",
       "1        Khởi My   33        Ca sĩ Khởi My       Đồng Nai  Ca sĩ\n",
       "2  Hồ Quang Hiếu   37  Ca sĩ Hồ Quang Hiếu        Đắk Lắk  Ca sĩ\n",
       "3      Thuỷ Tiên   38      Ca sĩ Thuỷ Tiên     Kiên Giang  Ca sĩ\n",
       "4      Minh Hằng   36      Ca sĩ Minh Hằng    Hồ Chí Minh  Ca sĩ"
      ]
     },
     "execution_count": 33,
     "metadata": {},
     "output_type": "execute_result"
    }
   ],
   "source": [
    "df_giai_tri = pd.read_csv('giai_tri_new.csv')\n",
    "df_giai_tri.head()"
   ]
  },
  {
   "cell_type": "code",
   "execution_count": 34,
   "metadata": {},
   "outputs": [
    {
     "data": {
      "text/html": [
       "<div>\n",
       "<style scoped>\n",
       "    .dataframe tbody tr th:only-of-type {\n",
       "        vertical-align: middle;\n",
       "    }\n",
       "\n",
       "    .dataframe tbody tr th {\n",
       "        vertical-align: top;\n",
       "    }\n",
       "\n",
       "    .dataframe thead th {\n",
       "        text-align: right;\n",
       "    }\n",
       "</style>\n",
       "<table border=\"1\" class=\"dataframe\">\n",
       "  <thead>\n",
       "    <tr style=\"text-align: right;\">\n",
       "      <th></th>\n",
       "      <th>name</th>\n",
       "      <th>age</th>\n",
       "      <th>province</th>\n",
       "    </tr>\n",
       "  </thead>\n",
       "  <tbody>\n",
       "    <tr>\n",
       "      <th>0</th>\n",
       "      <td>Phạm Nhật Vượng</td>\n",
       "      <td>55</td>\n",
       "      <td>Hà Tĩnh</td>\n",
       "    </tr>\n",
       "    <tr>\n",
       "      <th>1</th>\n",
       "      <td>Trần Đình Long</td>\n",
       "      <td>62</td>\n",
       "      <td>Thanh Miện, Hải Dương</td>\n",
       "    </tr>\n",
       "    <tr>\n",
       "      <th>2</th>\n",
       "      <td>Đỗ Anh Tuấn</td>\n",
       "      <td>48</td>\n",
       "      <td>Thanh Hóa</td>\n",
       "    </tr>\n",
       "    <tr>\n",
       "      <th>3</th>\n",
       "      <td>Hồ Hùng Anh</td>\n",
       "      <td>53</td>\n",
       "      <td>Thừa Thiên Huế</td>\n",
       "    </tr>\n",
       "    <tr>\n",
       "      <th>4</th>\n",
       "      <td>Nguyễn Thị Phương Thảo</td>\n",
       "      <td>53</td>\n",
       "      <td>Hà Nội</td>\n",
       "    </tr>\n",
       "  </tbody>\n",
       "</table>\n",
       "</div>"
      ],
      "text/plain": [
       "                     name  age               province\n",
       "0         Phạm Nhật Vượng   55                Hà Tĩnh\n",
       "1          Trần Đình Long   62  Thanh Miện, Hải Dương\n",
       "2             Đỗ Anh Tuấn   48              Thanh Hóa\n",
       "3             Hồ Hùng Anh   53         Thừa Thiên Huế\n",
       "4  Nguyễn Thị Phương Thảo   53                 Hà Nội"
      ]
     },
     "execution_count": 34,
     "metadata": {},
     "output_type": "execute_result"
    }
   ],
   "source": [
    "df_doanh_nhan = pd.read_csv('kinh_doanh.csv')\n",
    "df_doanh_nhan.head()"
   ]
  },
  {
   "cell_type": "code",
   "execution_count": 35,
   "metadata": {},
   "outputs": [
    {
     "data": {
      "text/html": [
       "<div>\n",
       "<style scoped>\n",
       "    .dataframe tbody tr th:only-of-type {\n",
       "        vertical-align: middle;\n",
       "    }\n",
       "\n",
       "    .dataframe tbody tr th {\n",
       "        vertical-align: top;\n",
       "    }\n",
       "\n",
       "    .dataframe thead th {\n",
       "        text-align: right;\n",
       "    }\n",
       "</style>\n",
       "<table border=\"1\" class=\"dataframe\">\n",
       "  <thead>\n",
       "    <tr style=\"text-align: right;\">\n",
       "      <th></th>\n",
       "      <th>name</th>\n",
       "      <th>age</th>\n",
       "      <th>province</th>\n",
       "      <th>keyword</th>\n",
       "    </tr>\n",
       "  </thead>\n",
       "  <tbody>\n",
       "    <tr>\n",
       "      <th>0</th>\n",
       "      <td>Phạm Nhật Vượng</td>\n",
       "      <td>55</td>\n",
       "      <td>Hà Tĩnh</td>\n",
       "      <td>doanh nhân Phạm Nhật Vượng</td>\n",
       "    </tr>\n",
       "    <tr>\n",
       "      <th>1</th>\n",
       "      <td>Trần Đình Long</td>\n",
       "      <td>62</td>\n",
       "      <td>Thanh Miện, Hải Dương</td>\n",
       "      <td>doanh nhân Trần Đình Long</td>\n",
       "    </tr>\n",
       "    <tr>\n",
       "      <th>2</th>\n",
       "      <td>Đỗ Anh Tuấn</td>\n",
       "      <td>48</td>\n",
       "      <td>Thanh Hóa</td>\n",
       "      <td>doanh nhân Đỗ Anh Tuấn</td>\n",
       "    </tr>\n",
       "    <tr>\n",
       "      <th>3</th>\n",
       "      <td>Hồ Hùng Anh</td>\n",
       "      <td>53</td>\n",
       "      <td>Thừa Thiên Huế</td>\n",
       "      <td>doanh nhân Hồ Hùng Anh</td>\n",
       "    </tr>\n",
       "    <tr>\n",
       "      <th>4</th>\n",
       "      <td>Nguyễn Thị Phương Thảo</td>\n",
       "      <td>53</td>\n",
       "      <td>Hà Nội</td>\n",
       "      <td>doanh nhân Nguyễn Thị Phương Thảo</td>\n",
       "    </tr>\n",
       "  </tbody>\n",
       "</table>\n",
       "</div>"
      ],
      "text/plain": [
       "                     name  age               province  \\\n",
       "0         Phạm Nhật Vượng   55                Hà Tĩnh   \n",
       "1          Trần Đình Long   62  Thanh Miện, Hải Dương   \n",
       "2             Đỗ Anh Tuấn   48              Thanh Hóa   \n",
       "3             Hồ Hùng Anh   53         Thừa Thiên Huế   \n",
       "4  Nguyễn Thị Phương Thảo   53                 Hà Nội   \n",
       "\n",
       "                             keyword  \n",
       "0         doanh nhân Phạm Nhật Vượng  \n",
       "1          doanh nhân Trần Đình Long  \n",
       "2             doanh nhân Đỗ Anh Tuấn  \n",
       "3             doanh nhân Hồ Hùng Anh  \n",
       "4  doanh nhân Nguyễn Thị Phương Thảo  "
      ]
     },
     "execution_count": 35,
     "metadata": {},
     "output_type": "execute_result"
    }
   ],
   "source": [
    "# add keyword column for df_doanh_nhan: doanh nhân + name\n",
    "df_doanh_nhan['keyword'] = df_doanh_nhan['name'].apply(lambda x: 'doanh nhân ' + x)\n",
    "df_doanh_nhan.head()"
   ]
  },
  {
   "cell_type": "code",
   "execution_count": 36,
   "metadata": {},
   "outputs": [
    {
     "data": {
      "text/html": [
       "<div>\n",
       "<style scoped>\n",
       "    .dataframe tbody tr th:only-of-type {\n",
       "        vertical-align: middle;\n",
       "    }\n",
       "\n",
       "    .dataframe tbody tr th {\n",
       "        vertical-align: top;\n",
       "    }\n",
       "\n",
       "    .dataframe thead th {\n",
       "        text-align: right;\n",
       "    }\n",
       "</style>\n",
       "<table border=\"1\" class=\"dataframe\">\n",
       "  <thead>\n",
       "    <tr style=\"text-align: right;\">\n",
       "      <th></th>\n",
       "      <th>name</th>\n",
       "      <th>age</th>\n",
       "      <th>keyword</th>\n",
       "    </tr>\n",
       "  </thead>\n",
       "  <tbody>\n",
       "    <tr>\n",
       "      <th>0</th>\n",
       "      <td>Đoàn Thị Lê An</td>\n",
       "      <td>44</td>\n",
       "      <td>Đại biểu quốc hội Đoàn Thị Lê An</td>\n",
       "    </tr>\n",
       "    <tr>\n",
       "      <th>1</th>\n",
       "      <td>Dương Văn An</td>\n",
       "      <td>52</td>\n",
       "      <td>Đại biểu quốc hội Dương Văn An</td>\n",
       "    </tr>\n",
       "    <tr>\n",
       "      <th>2</th>\n",
       "      <td>Lê Thị Song An</td>\n",
       "      <td>45</td>\n",
       "      <td>Đại biểu quốc hội Lê Thị Song An</td>\n",
       "    </tr>\n",
       "    <tr>\n",
       "      <th>3</th>\n",
       "      <td>Nguyễn Văn An</td>\n",
       "      <td>54</td>\n",
       "      <td>Đại biểu quốc hội Nguyễn Văn An</td>\n",
       "    </tr>\n",
       "    <tr>\n",
       "      <th>4</th>\n",
       "      <td>Trần Thị Hồng An</td>\n",
       "      <td>51</td>\n",
       "      <td>Đại biểu quốc hội Trần Thị Hồng An</td>\n",
       "    </tr>\n",
       "  </tbody>\n",
       "</table>\n",
       "</div>"
      ],
      "text/plain": [
       "               name  age                             keyword\n",
       "0    Đoàn Thị Lê An   44    Đại biểu quốc hội Đoàn Thị Lê An\n",
       "1      Dương Văn An   52      Đại biểu quốc hội Dương Văn An\n",
       "2    Lê Thị Song An   45    Đại biểu quốc hội Lê Thị Song An\n",
       "3     Nguyễn Văn An   54     Đại biểu quốc hội Nguyễn Văn An\n",
       "4  Trần Thị Hồng An   51  Đại biểu quốc hội Trần Thị Hồng An"
      ]
     },
     "execution_count": 36,
     "metadata": {},
     "output_type": "execute_result"
    }
   ],
   "source": [
    "# merge df_dbqh and df_giai_tri and df_doanh_nhan with 3 columns (name, age, keyword)\n",
    "df = pd.concat([df_dbqh[['name', 'age', 'keyword']], df_giai_tri[['name', 'age', 'keyword']], df_doanh_nhan[['name', 'age', 'keyword']]])\n",
    "df.head()"
   ]
  },
  {
   "cell_type": "code",
   "execution_count": 37,
   "metadata": {},
   "outputs": [
    {
     "data": {
      "text/plain": [
       "(3399, 3)"
      ]
     },
     "execution_count": 37,
     "metadata": {},
     "output_type": "execute_result"
    }
   ],
   "source": [
    "df.shape"
   ]
  },
  {
   "cell_type": "code",
   "execution_count": 38,
   "metadata": {},
   "outputs": [
    {
     "data": {
      "text/plain": [
       "(3399, 3)"
      ]
     },
     "execution_count": 38,
     "metadata": {},
     "output_type": "execute_result"
    }
   ],
   "source": [
    "# drop duplicate rows\n",
    "df = df.drop_duplicates()\n",
    "df.shape"
   ]
  },
  {
   "cell_type": "code",
   "execution_count": 39,
   "metadata": {},
   "outputs": [
    {
     "data": {
      "text/plain": [
       "array(['Đại biểu quốc hội', 'Ca sĩ', 'Hot girl', 'Diễn viên',\n",
       "       'doanh nhân'], dtype=object)"
      ]
     },
     "execution_count": 39,
     "metadata": {},
     "output_type": "execute_result"
    }
   ],
   "source": [
    "# create job via keyword and name (keyword remove name in name column)\n",
    "jobs = df.apply(lambda x: x['keyword'].replace(x['name'], '')[:-1], axis=1).unique()\n",
    "jobs"
   ]
  },
  {
   "cell_type": "code",
   "execution_count": 46,
   "metadata": {},
   "outputs": [
    {
     "data": {
      "image/png": "[encoded data removed]",
      "text/plain": [
       "<Figure size 640x480 with 1 Axes>"
      ]
     },
     "metadata": {},
     "output_type": "display_data"
    }
   ],
   "source": [
    "# count jobs\n",
    "jobs = df.apply(lambda x: x['keyword'].replace(x['name'], '')[:-1], axis=1)\n",
    "jobs_count = jobs.value_counts() # count jobs\n",
    "# plot jobs distribution\n",
    "plt.barh(jobs_count.index, jobs_count.values)\n",
    "plt.xticks(rotation=0)\n",
    "plt.show()"
   ]
  },
  {
   "cell_type": "code",
   "execution_count": 49,
   "metadata": {},
   "outputs": [
    {
     "data": {
      "image/png": "[encoded data removed]",
      "text/plain": [
       "<Figure size 640x480 with 1 Axes>"
      ]
     },
     "metadata": {},
     "output_type": "display_data"
    }
   ],
   "source": [
    "# plot age distribution\n",
    "plt.hist(df['age'], bins=30)\n",
    "plt.show()\n"
   ]
  },
  {
   "cell_type": "code",
   "execution_count": 50,
   "metadata": {},
   "outputs": [],
   "source": [
    "df.to_csv('name_index.csv', index=False)"
   ]
  }
 ],
 "metadata": {
  "kernelspec": {
   "display_name": "venv",
   "language": "python",
   "name": "python3"
  },
  "language_info": {
   "codemirror_mode": {
    "name": "ipython",
    "version": 3
   },
   "file_extension": ".py",
   "mimetype": "text/x-python",
   "name": "python",
   "nbconvert_exporter": "python",
   "pygments_lexer": "ipython3",
   "version": "3.11.1"
  },
  "orig_nbformat": 4
 },
 "nbformat": 4,
 "nbformat_minor": 2
}
